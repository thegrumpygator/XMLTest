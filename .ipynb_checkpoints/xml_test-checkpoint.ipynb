{
 "cells": [
  {
   "cell_type": "markdown",
   "metadata": {},
   "source": [
    "# XML Test\n",
    "\n",
    "Read xml from a zipped archive and into a pandas dataframe."
   ]
  },
  {
   "cell_type": "code",
   "execution_count": 1,
   "metadata": {},
   "outputs": [],
   "source": [
    "import pandas as pd\n",
    "import xml.etree.ElementTree as et"
   ]
  },
  {
   "cell_type": "code",
   "execution_count": 10,
   "metadata": {},
   "outputs": [],
   "source": [
    "xml_filename = \"/home/brianfuller/Data/nsf/2019/1900017.xml\""
   ]
  },
  {
   "cell_type": "code",
   "execution_count": 4,
   "metadata": {},
   "outputs": [],
   "source": [
    "xtree = et.parse(xml_filename)"
   ]
  },
  {
   "cell_type": "code",
   "execution_count": 6,
   "metadata": {},
   "outputs": [],
   "source": [
    "xroot = xtree.getroot()"
   ]
  },
  {
   "cell_type": "code",
   "execution_count": null,
   "metadata": {},
   "outputs": [],
   "source": [
    "for node in xroot:\n",
    "    s_name = node.attrib.get(\"AwardTitle\")\n",
    "    "
   ]
  },
  {
   "cell_type": "code",
   "execution_count": 8,
   "metadata": {
    "collapsed": true
   },
   "outputs": [],
   "source": [
    "import xmltodict"
   ]
  },
  {
   "cell_type": "code",
   "execution_count": 11,
   "metadata": {},
   "outputs": [],
   "source": [
    "with open(xml_filename) as fd:\n",
    "    doc = xmltodict.parse(fd.read())"
   ]
  },
  {
   "cell_type": "code",
   "execution_count": 33,
   "metadata": {},
   "outputs": [
    {
     "data": {
      "text/plain": [
       "OrderedDict([('AwardTitle',\n",
       "              'CDS&E: D3SC: Accelerating Density Functional Theory Based Simulations and Materials Design with Machine Learning'),\n",
       "             ('AwardEffectiveDate', '06/15/2019'),\n",
       "             ('AwardExpirationDate', '05/31/2022'),\n",
       "             ('AwardTotalIntnAmount', '449999.00'),\n",
       "             ('AwardAmount', '449999'),\n",
       "             ('AwardInstrument', OrderedDict([('Value', 'Standard Grant')])),\n",
       "             ('Organization',\n",
       "              OrderedDict([('Code', '03090000'),\n",
       "                           ('Directorate',\n",
       "                            OrderedDict([('Abbreviation', 'MPS'),\n",
       "                                         ('LongName',\n",
       "                                          'Direct For Mathematical & Physical Scien')])),\n",
       "                           ('Division',\n",
       "                            OrderedDict([('Abbreviation', 'CHE'),\n",
       "                                         ('LongName',\n",
       "                                          'Division Of Chemistry')]))])),\n",
       "             ('ProgramOfficer',\n",
       "              OrderedDict([('SignBlockName', 'Evelyn Goldfield')])),\n",
       "             ('AbstractNarration',\n",
       "              'Rampi Ramprasad and Le Song of the Georgia Institute of Technology are supported by an award from the Chemical Theory, Models and Computational Methods program in the Division of Chemistry to accelerate computer simulations of molecules and materials.  The award is co-funded by the Condensed Matter and Materials Theory program in the Division of Materials Research.  Simulations based on Quantum Mechanics are accurate, versatile and vital to molecular and materials discovery. Unfortunately, for many real-world systems, they are also painstakingly slow.  Thus, scientists are often limited to studying idealized systems at small scales. Ramprasad and Song are utilizing Artificial Intelligence approaches to develop a new, transformative capability that observes, distills and learns the behavior of the Quantum Mechanical equations and notions of chemical (dis)similarity. Their new \"Machine Learning\" capability is able to emulate Quantum Mechanical simulations, but at unprecedented speed-ups of over eight orders of magnitude while still preserving accuracy. This capability progressively improves in quality as it is periodically (or on-demand) exposed to fresh data on new chemistries and molecular configurations in regions of poor knowledge. In other words, the simulation capability can systematically and continuously improve with experience. Several problems currently beyond the reaches of traditional simulation methods may  become solvable. Through their research, pedagogical and dissemination efforts, Ramprasad and Song are training the next generation of students who will require skills in traditional STEM domains as well as in advanced data analytics.  The project is well-aligned with NSF\\'s Harnessing the Data Revolution Big Idea. This effort is also aligned with the Materials Genome Initiative (MGI) which has propelled efforts to hasten the discovery cycle of new chemicals and materials to satisfy a variety of critical technological needs. <br/><br/><br/>The specific flavor of Quantum Mechanical simulations that Ramprasad and Song are targeting in their work involves solving the Kohn-Sham (KS) equation of density functional theory (DFT). Despite its versatility, routine DFT calculations are usually limited to a few hundred atoms due to the computational bottleneck posed by the KS equation. The Machine Learning based DFT-emulation scheme that Ramprasad and Song are developing assimilates the function of the KS equation efficiently using past example reference DFT calculations.  Once trained, the scheme by-passes the KS equation entirely for future calculations, to directly, rapidly and accurately predict the electronic structure of a molecule or material, given just its atomic configuration. Novel rotationally invariant graph neural network representations are being utilized to map the atomic environment around a grid point to the electron density and local electronic density of states at that grid point. This mapping is learned using a deep neural network trained on initial reference DFT results at millions of grid points. Subsequently emerging new data will be absorbed into the neural networks via multi-task learning and transfer learning. The paradigm allows for the high-fidelity emulation of KS DFT, but orders of magnitude faster than the direct solution; indeed, the machine learning prediction scheme is strictly linear-scaling with system size. This capability is being aimed at systems involving C, H, O and N, which encompasses a large chemical space of technologically important polymers and molecules. The vision is to enable a capability to efficiently design molecules and polymers with a target electronic structure.<br/><br/>This award reflects NSF\\'s statutory mission and has been deemed worthy of support through evaluation using the Foundation\\'s intellectual merit and broader impacts review criteria.'),\n",
       "             ('MinAmdLetterDate', '06/13/2019'),\n",
       "             ('MaxAmdLetterDate', '06/13/2019'),\n",
       "             ('ARRAAmount', None),\n",
       "             ('AwardID', '1900017'),\n",
       "             ('Investigator',\n",
       "              [OrderedDict([('FirstName', 'Ramamurthy'),\n",
       "                            ('LastName', 'Ramprasad'),\n",
       "                            ('EmailAddress', 'ramprasad@gatech.edu'),\n",
       "                            ('StartDate', '06/13/2019'),\n",
       "                            ('EndDate', None),\n",
       "                            ('RoleCode', 'Principal Investigator')]),\n",
       "               OrderedDict([('FirstName', 'Le'),\n",
       "                            ('LastName', 'Song'),\n",
       "                            ('EmailAddress', 'lsong@cc.gatech.edu'),\n",
       "                            ('StartDate', '06/13/2019'),\n",
       "                            ('EndDate', None),\n",
       "                            ('RoleCode', 'Co-Principal Investigator')])]),\n",
       "             ('Institution',\n",
       "              OrderedDict([('Name', 'Georgia Tech Research Corporation'),\n",
       "                           ('CityName', 'Atlanta'),\n",
       "                           ('ZipCode', '303320420'),\n",
       "                           ('PhoneNumber', '4048944819'),\n",
       "                           ('StreetAddress', 'Office of Sponsored Programs'),\n",
       "                           ('CountryName', 'United States'),\n",
       "                           ('StateName', 'Georgia'),\n",
       "                           ('StateCode', 'GA')])),\n",
       "             ('ProgramElement',\n",
       "              [OrderedDict([('Code', '1765'),\n",
       "                            ('Text', 'CONDENSED MATTER & MAT THEORY')]),\n",
       "               OrderedDict([('Code', '6881'),\n",
       "                            ('Text', 'Chem Thry, Mdls & Cmptnl Mthds')])]),\n",
       "             ('ProgramReference',\n",
       "              [OrderedDict([('Code', '054Z'),\n",
       "                            ('Text', '(MGI) Materials Genome Initiative')]),\n",
       "               OrderedDict([('Code', '062Z'),\n",
       "                            ('Text', 'Harnessing the Data Revolution')]),\n",
       "               OrderedDict([('Code', '075Z'),\n",
       "                            ('Text', 'Artificial Intelligence (AI)')]),\n",
       "               OrderedDict([('Code', '7237'),\n",
       "                            ('Text', 'NANO NON-SOLIC SCI & ENG AWD')]),\n",
       "               OrderedDict([('Code', '8084'), ('Text', 'CDS&E')]),\n",
       "               OrderedDict([('Code', '8614'), ('Text', 'Nanomaterials')]),\n",
       "               OrderedDict([('Code', '9216'),\n",
       "                            ('Text', 'ADVANCED SOFTWARE TECH & ALGOR')]),\n",
       "               OrderedDict([('Code', '9263'),\n",
       "                            ('Text', 'COMPUTATIONAL SCIENCE & ENGING')])])])"
      ]
     },
     "execution_count": 33,
     "metadata": {},
     "output_type": "execute_result"
    }
   ],
   "source": [
    "doc['rootTag']['Award']"
   ]
  },
  {
   "cell_type": "code",
   "execution_count": 21,
   "metadata": {
    "scrolled": true
   },
   "outputs": [
    {
     "data": {
      "text/plain": [
       "odict_keys(['AwardTitle', 'AwardEffectiveDate', 'AwardExpirationDate', 'AwardTotalIntnAmount', 'AwardAmount', 'AwardInstrument', 'Organization', 'ProgramOfficer', 'AbstractNarration', 'MinAmdLetterDate', 'MaxAmdLetterDate', 'ARRAAmount', 'AwardID', 'Investigator', 'Institution', 'ProgramElement', 'ProgramReference'])"
      ]
     },
     "execution_count": 21,
     "metadata": {},
     "output_type": "execute_result"
    }
   ],
   "source": [
    "doc['rootTag']['Award'].keys()"
   ]
  },
  {
   "cell_type": "code",
   "execution_count": 19,
   "metadata": {},
   "outputs": [
    {
     "data": {
      "text/plain": [
       "'CDS&E: D3SC: Accelerating Density Functional Theory Based Simulations and Materials Design with Machine Learning'"
      ]
     },
     "execution_count": 19,
     "metadata": {},
     "output_type": "execute_result"
    }
   ],
   "source": [
    "doc['rootTag']['Award']['AwardTitle']"
   ]
  },
  {
   "cell_type": "code",
   "execution_count": 32,
   "metadata": {},
   "outputs": [
    {
     "data": {
      "text/plain": [
       "[OrderedDict([('@name', 'AwardTitle'), ('@type', 'xsd:string')]),\n",
       " OrderedDict([('@name', 'AwardEffectiveDate'), ('@type', 'xsd:dateTime')]),\n",
       " OrderedDict([('@name', 'AwardExpirationDate'), ('@type', 'xsd:dateTime')]),\n",
       " OrderedDict([('@name', 'AwardAmount'), ('@type', 'xsd:int')]),\n",
       " OrderedDict([('@name', 'AwardInstrument'),\n",
       "              ('xsd:complexType',\n",
       "               OrderedDict([('xsd:sequence',\n",
       "                             OrderedDict([('xsd:element',\n",
       "                                           OrderedDict([('@name', 'Value'),\n",
       "                                                        ('@type',\n",
       "                                                         'xsd:string')]))]))]))]),\n",
       " OrderedDict([('@name', 'Organization'),\n",
       "              ('xsd:complexType',\n",
       "               OrderedDict([('xsd:sequence',\n",
       "                             OrderedDict([('xsd:element',\n",
       "                                           [OrderedDict([('@name', 'Code'),\n",
       "                                                         ('@type',\n",
       "                                                          'xsd:int')]),\n",
       "                                            OrderedDict([('@name',\n",
       "                                                          'Directorate'),\n",
       "                                                         ('xsd:complexType',\n",
       "                                                          OrderedDict([('xsd:sequence',\n",
       "                                                                        OrderedDict([('xsd:element',\n",
       "                                                                                      OrderedDict([('@name',\n",
       "                                                                                                    'LongName'),\n",
       "                                                                                                   ('@type',\n",
       "                                                                                                    'xsd:string')]))]))]))]),\n",
       "                                            OrderedDict([('@name', 'Division'),\n",
       "                                                         ('xsd:complexType',\n",
       "                                                          OrderedDict([('xsd:sequence',\n",
       "                                                                        OrderedDict([('xsd:element',\n",
       "                                                                                      OrderedDict([('@name',\n",
       "                                                                                                    'LongName'),\n",
       "                                                                                                   ('@type',\n",
       "                                                                                                    'xsd:string')]))]))]))])])]))]))]),\n",
       " OrderedDict([('@name', 'ProgramOfficer'),\n",
       "              ('xsd:complexType',\n",
       "               OrderedDict([('xsd:sequence',\n",
       "                             OrderedDict([('xsd:element',\n",
       "                                           OrderedDict([('@name',\n",
       "                                                         'SignBlockName'),\n",
       "                                                        ('@type',\n",
       "                                                         'xsd:string')]))]))]))]),\n",
       " OrderedDict([('@name', 'AbstractNarration'), ('@type', 'xsd:string')]),\n",
       " OrderedDict([('@name', 'MinAmdLetterDate'), ('@type', 'xsd:dateTime')]),\n",
       " OrderedDict([('@name', 'MaxAmdLetterDate'), ('@type', 'xsd:dateTime')]),\n",
       " OrderedDict([('@name', 'ARRAAmount'), ('@type', 'xsd:string')]),\n",
       " OrderedDict([('@name', 'AwardID'), ('@type', 'xsd:int')]),\n",
       " OrderedDict([('@maxOccurs', 'unbounded'),\n",
       "              ('@name', 'Investigator'),\n",
       "              ('xsd:complexType',\n",
       "               OrderedDict([('xsd:sequence',\n",
       "                             OrderedDict([('xsd:element',\n",
       "                                           [OrderedDict([('@name',\n",
       "                                                          'FirstName'),\n",
       "                                                         ('@type',\n",
       "                                                          'xsd:string')]),\n",
       "                                            OrderedDict([('@name', 'LastName'),\n",
       "                                                         ('@type',\n",
       "                                                          'xsd:string')]),\n",
       "                                            OrderedDict([('@name',\n",
       "                                                          'EmailAddress'),\n",
       "                                                         ('@type',\n",
       "                                                          'xsd:string')]),\n",
       "                                            OrderedDict([('@name',\n",
       "                                                          'StartDate'),\n",
       "                                                         ('@type',\n",
       "                                                          'xsd:dateTime')]),\n",
       "                                            OrderedDict([('@name', 'EndDate'),\n",
       "                                                         ('@type',\n",
       "                                                          'xsd:string')]),\n",
       "                                            OrderedDict([('@name', 'RoleCode'),\n",
       "                                                         ('@type',\n",
       "                                                          'xsd:int')])])]))]))]),\n",
       " OrderedDict([('@maxOccurs', 'unbounded'),\n",
       "              ('@name', 'Institution'),\n",
       "              ('xsd:complexType',\n",
       "               OrderedDict([('xsd:sequence',\n",
       "                             OrderedDict([('xsd:element',\n",
       "                                           [OrderedDict([('@name', 'Name'),\n",
       "                                                         ('@type',\n",
       "                                                          'xsd:string')]),\n",
       "                                            OrderedDict([('@name', 'CityName'),\n",
       "                                                         ('@type',\n",
       "                                                          'xsd:string')]),\n",
       "                                            OrderedDict([('@name', 'ZipCode'),\n",
       "                                                         ('@type',\n",
       "                                                          'xsd:int')]),\n",
       "                                            OrderedDict([('@name',\n",
       "                                                          'PhoneNumber'),\n",
       "                                                         ('@type',\n",
       "                                                          'xsd:decimal')]),\n",
       "                                            OrderedDict([('@name',\n",
       "                                                          'StreetAddress'),\n",
       "                                                         ('@type',\n",
       "                                                          'xsd:string')]),\n",
       "                                            OrderedDict([('@name',\n",
       "                                                          'CountryName'),\n",
       "                                                         ('@type',\n",
       "                                                          'xsd:string')]),\n",
       "                                            OrderedDict([('@name',\n",
       "                                                          'StateName'),\n",
       "                                                         ('@type',\n",
       "                                                          'xsd:string')]),\n",
       "                                            OrderedDict([('@name',\n",
       "                                                          'StateCode'),\n",
       "                                                         ('@type',\n",
       "                                                          'xsd:string')])])]))]))]),\n",
       " OrderedDict([('@maxOccurs', 'unbounded'),\n",
       "              ('@name', 'FoaInformation'),\n",
       "              ('xsd:complexType',\n",
       "               OrderedDict([('xsd:sequence',\n",
       "                             OrderedDict([('xsd:element',\n",
       "                                           [OrderedDict([('@name', 'Code'),\n",
       "                                                         ('@type',\n",
       "                                                          'xsd:int')]),\n",
       "                                            OrderedDict([('@name', 'Name'),\n",
       "                                                         ('@type',\n",
       "                                                          'xsd:string')])])]))]))]),\n",
       " OrderedDict([('@maxOccurs', 'unbounded'),\n",
       "              ('@name', 'ProgramElement'),\n",
       "              ('xsd:complexType',\n",
       "               OrderedDict([('xsd:sequence',\n",
       "                             OrderedDict([('xsd:element',\n",
       "                                           [OrderedDict([('@name', 'Code'),\n",
       "                                                         ('@type',\n",
       "                                                          'xsd:int')]),\n",
       "                                            OrderedDict([('@name', 'Text'),\n",
       "                                                         ('@type',\n",
       "                                                          'xsd:string')])])]))]))]),\n",
       " OrderedDict([('@maxOccurs', 'unbounded'),\n",
       "              ('@name', 'ProgramReference'),\n",
       "              ('xsd:complexType',\n",
       "               OrderedDict([('xsd:sequence',\n",
       "                             OrderedDict([('xsd:element',\n",
       "                                           [OrderedDict([('@name', 'Code'),\n",
       "                                                         ('@type',\n",
       "                                                          'xsd:int')]),\n",
       "                                            OrderedDict([('@name', 'Text'),\n",
       "                                                         ('@type',\n",
       "                                                          'xsd:string')])])]))]))])]"
      ]
     },
     "execution_count": 32,
     "metadata": {},
     "output_type": "execute_result"
    }
   ],
   "source": [
    "schema_filename = '/home/brianfuller/Data/nsf/award_schema.xsd'\n",
    "with open(schema_filename) as fd:\n",
    "    headers_doc = xmltodict.parse(fd.read())\n",
    "headers_doc['xsd:schema']['xsd:element']['xsd:complexType']['xsd:sequence']['xsd:element']['xsd:complexType']['xsd:sequence']['xsd:element']"
   ]
  },
  {
   "cell_type": "code",
   "execution_count": 34,
   "metadata": {
    "collapsed": true
   },
   "outputs": [],
   "source": [
    "root_award_dict = doc['rootTag']['Award']"
   ]
  },
  {
   "cell_type": "code",
   "execution_count": 35,
   "metadata": {},
   "outputs": [
    {
     "data": {
      "text/plain": [
       "'Atlanta'"
      ]
     },
     "execution_count": 35,
     "metadata": {},
     "output_type": "execute_result"
    }
   ],
   "source": [
    "root_award_dict['Institution']['CityName']"
   ]
  },
  {
   "cell_type": "code",
   "execution_count": null,
   "metadata": {},
   "outputs": [],
   "source": []
  }
 ],
 "metadata": {
  "kernelspec": {
   "display_name": "Python 3",
   "language": "python",
   "name": "python3"
  },
  "language_info": {
   "codemirror_mode": {
    "name": "ipython",
    "version": 3
   },
   "file_extension": ".py",
   "mimetype": "text/x-python",
   "name": "python",
   "nbconvert_exporter": "python",
   "pygments_lexer": "ipython3",
   "version": "3.7.3"
  }
 },
 "nbformat": 4,
 "nbformat_minor": 2
}
